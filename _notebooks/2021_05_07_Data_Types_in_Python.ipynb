{
  "nbformat": 4,
  "nbformat_minor": 0,
  "metadata": {
    "colab": {
      "name": "2021-05-07-Data-Types-in-Python",
      "provenance": []
    },
    "kernelspec": {
      "name": "python3",
      "display_name": "Python 3"
    },
    "language_info": {
      "name": "python"
    }
  },
  "cells": [
    {
      "cell_type": "markdown",
      "metadata": {
        "id": "NfQ7lZoCYtmo"
      },
      "source": [
        "**Introduction to Python Programming**\n",
        "\n",
        "The fundamentals of a programming language includes its syntanctical and semantical understanding. Python is used as one of the major programming languages within Data Science and learning its basics is integral to be able to fully interpret the essence of analytics and machine learning. We will be covering the following topics in this notebook:\n",
        "\n",
        "* Data types\n",
        "    * Numbers\n",
        "    * Strings\n",
        "    * Booleans\n",
        "    * Lists\n",
        "    * Dictionaries\n",
        "    * Tuples \n",
        "    * Sets"
      ]
    },
    {
      "cell_type": "markdown",
      "metadata": {
        "id": "6p-N--9Ygu18"
      },
      "source": [
        "# Numeric Data Types\n",
        "\n",
        "- In Python, there is no constraint on how long an integer should be and it depends on the memory of your computer system.\n",
        "- Python interprets a sequence of numbers as by default decimal\n",
        "- We can prefix 'b' or 'B', 'o' or 'O' and 'x' or 'X' for Binary, Octal and Hexadecimal numbers.\n",
        "- Float type numbers are specified using a decimal in the number itself\n",
        "- We can use 'e' to signify powers of 10 in Python\n",
        "- Closest non-zero number in Python is e-325\n",
        "- Complex numbers are represented as real part+imaginary part*j\n"
      ]
    },
    {
      "cell_type": "code",
      "metadata": {
        "colab": {
          "base_uri": "https://localhost:8080/"
        },
        "id": "zV27TihOYiRb",
        "outputId": "34c7b218-5699-4364-ab51-20a4d18f4eca"
      },
      "source": [
        "print(1234512345123451234512345+1)"
      ],
      "execution_count": 1,
      "outputs": [
        {
          "output_type": "stream",
          "text": [
            "1234512345123451234512346\n"
          ],
          "name": "stdout"
        }
      ]
    },
    {
      "cell_type": "code",
      "metadata": {
        "colab": {
          "base_uri": "https://localhost:8080/"
        },
        "id": "Q8_-OB-Ri7U6",
        "outputId": "2f8f3c33-4e6e-4b23-d8c1-2edd11e4049f"
      },
      "source": [
        "print(0xFF)\n",
        "print(0b0110)\n",
        "print(0o010)"
      ],
      "execution_count": 10,
      "outputs": [
        {
          "output_type": "stream",
          "text": [
            "255\n",
            "6\n",
            "8\n"
          ],
          "name": "stdout"
        }
      ]
    },
    {
      "cell_type": "code",
      "metadata": {
        "colab": {
          "base_uri": "https://localhost:8080/"
        },
        "id": "l_PltjjvkFfd",
        "outputId": "f045e22b-bdb1-40dd-c0c8-c34915b6cc3a"
      },
      "source": [
        "print(2.0)\n",
        "print(type(2.0))\n",
        "print(1.2e300)\n",
        "print(type(1.2e300))"
      ],
      "execution_count": 12,
      "outputs": [
        {
          "output_type": "stream",
          "text": [
            "2.0\n",
            "<class 'float'>\n",
            "1.2e+300\n",
            "<class 'float'>\n"
          ],
          "name": "stdout"
        }
      ]
    },
    {
      "cell_type": "code",
      "metadata": {
        "colab": {
          "base_uri": "https://localhost:8080/"
        },
        "id": "eenHsvozm3qN",
        "outputId": "9af362ba-056a-4a5a-f577-1b4bbaa94d54"
      },
      "source": [
        "1e-325"
      ],
      "execution_count": 13,
      "outputs": [
        {
          "output_type": "execute_result",
          "data": {
            "text/plain": [
              "0.0"
            ]
          },
          "metadata": {
            "tags": []
          },
          "execution_count": 13
        }
      ]
    },
    {
      "cell_type": "code",
      "metadata": {
        "colab": {
          "base_uri": "https://localhost:8080/"
        },
        "id": "xHpSqi6znF_h",
        "outputId": "bfde5719-3c6b-47e6-ba75-95790547da6f"
      },
      "source": [
        "print(2+3j)\n",
        "print(type(2+3j))"
      ],
      "execution_count": 15,
      "outputs": [
        {
          "output_type": "stream",
          "text": [
            "(2+3j)\n",
            "<class 'complex'>\n"
          ],
          "name": "stdout"
        }
      ]
    },
    {
      "cell_type": "markdown",
      "metadata": {
        "id": "c4N56tXpniT8"
      },
      "source": [
        "# Strings\n",
        "\n",
        "- Python treats its strings as immutable (ie we cannot modify them).\n",
        "- Strings are delimited using single or double quotes.\n",
        "- In case you need to use a special character in the string we make use of escape characters or delimit with double quotes/single quotes.\n",
        "- We use a backslash character for stopping the special interpretation of Python characters. A backslash character in a string indicates that one or more characters that follow it should be treated specially. \n",
        "- Another beautiful way is to use triple quotes: Triple-quoted strings are delimited by matching groups of three single quotes or three double quotes. It also helps in multiline execution of strings."
      ]
    },
    {
      "cell_type": "code",
      "metadata": {
        "colab": {
          "base_uri": "https://localhost:8080/"
        },
        "id": "bA_JUw9KnbhN",
        "outputId": "67581be4-93dc-467d-af79-13c5e1310439"
      },
      "source": [
        "a = \"We are learning data science!\"\n",
        "print(a, type(a))\n",
        "b = 'I am learning data science but in single quote'\n",
        "print(b, type(b))"
      ],
      "execution_count": 17,
      "outputs": [
        {
          "output_type": "stream",
          "text": [
            "We are learning data science! <class 'str'>\n",
            "I am learning data science but in single quote <class 'str'>\n"
          ],
          "name": "stdout"
        }
      ]
    },
    {
      "cell_type": "code",
      "metadata": {
        "colab": {
          "base_uri": "https://localhost:8080/",
          "height": 132
        },
        "id": "w9HTm8Sxo2C6",
        "outputId": "a3479030-00a1-49df-a0df-7e3dc7ab3de0"
      },
      "source": [
        "print('I will try to print a single quote (') character.')"
      ],
      "execution_count": 19,
      "outputs": [
        {
          "output_type": "error",
          "ename": "SyntaxError",
          "evalue": "ignored",
          "traceback": [
            "\u001b[0;36m  File \u001b[0;32m\"<ipython-input-19-f91dcf75e9e8>\"\u001b[0;36m, line \u001b[0;32m1\u001b[0m\n\u001b[0;31m    print('I will try to print a single quote (') character.')\u001b[0m\n\u001b[0m                                                          ^\u001b[0m\n\u001b[0;31mSyntaxError\u001b[0m\u001b[0;31m:\u001b[0m invalid syntax\n"
          ]
        }
      ]
    },
    {
      "cell_type": "code",
      "metadata": {
        "colab": {
          "base_uri": "https://localhost:8080/"
        },
        "id": "y4aRpN7_o2kX",
        "outputId": "0decdc60-8b12-4da6-c642-a503e7ca8902"
      },
      "source": [
        "print('I am trying to print string (\") in double quotes')"
      ],
      "execution_count": 20,
      "outputs": [
        {
          "output_type": "stream",
          "text": [
            "I am trying to print string (\") in double quotes\n"
          ],
          "name": "stdout"
        }
      ]
    },
    {
      "cell_type": "code",
      "metadata": {
        "colab": {
          "base_uri": "https://localhost:8080/"
        },
        "id": "b5z53uRTpK6G",
        "outputId": "865f605b-537a-4dd9-b534-dcbb4db39402"
      },
      "source": [
        "print(\"I am trying to print string (') in single quote\")"
      ],
      "execution_count": 21,
      "outputs": [
        {
          "output_type": "stream",
          "text": [
            "I am trying to print string (') in single quote\n"
          ],
          "name": "stdout"
        }
      ]
    },
    {
      "cell_type": "code",
      "metadata": {
        "colab": {
          "base_uri": "https://localhost:8080/"
        },
        "id": "Huoe6KYYpOex",
        "outputId": "5d03d4ae-d3bd-46b1-d62e-5d6f9005c10f"
      },
      "source": [
        "print(\"Hi! I am using backslash \\\"Hi\\\" there\")"
      ],
      "execution_count": 24,
      "outputs": [
        {
          "output_type": "stream",
          "text": [
            "Hi! I am using backslash \"Hi\" there\n"
          ],
          "name": "stdout"
        }
      ]
    },
    {
      "cell_type": "code",
      "metadata": {
        "colab": {
          "base_uri": "https://localhost:8080/"
        },
        "id": "-PL6OCG-p-VI",
        "outputId": "958baeba-20a6-4db6-a369-ed19edd498f8"
      },
      "source": [
        "print('''This string has a single (') and a double (\") quote.''')"
      ],
      "execution_count": 25,
      "outputs": [
        {
          "output_type": "stream",
          "text": [
            "This string has a single (') and a double (\") quote.\n"
          ],
          "name": "stdout"
        }
      ]
    },
    {
      "cell_type": "code",
      "metadata": {
        "colab": {
          "base_uri": "https://localhost:8080/"
        },
        "id": "VbznLb9Cqmud",
        "outputId": "838c8f0b-6d75-4be0-c75a-6ce2a52c73bb"
      },
      "source": [
        "print(\"\"\"This is a\n",
        "string which goes\n",
        "across several lines\"\"\")"
      ],
      "execution_count": 27,
      "outputs": [
        {
          "output_type": "stream",
          "text": [
            "This is a\n",
            "string which goes\n",
            "across several lines\n"
          ],
          "name": "stdout"
        }
      ]
    },
    {
      "cell_type": "markdown",
      "metadata": {
        "id": "XkGpifBIq0_6"
      },
      "source": [
        "# Boolean Datatype in Python\n",
        "\n",
        "- Boolean datatype can take only two different types of values: True and False\n",
        "- Booleans are considered a numeric type in Python\n",
        "- 'is' operator checks for object identity which means x is y evaluates to True only if x and y refer to the same object\n",
        "- 'in' operators checks for membership\n",
        "- a and b point to the same interned object in memory, but when their values are outside the range of common integers (ranging from -5 to 256), they’re stored at separate memory addresses.\n",
        "- The == and != operators are used to compare object equality and they are being used to compare the value of two objects. The is and is not operators are used for comparing object identities which means here we are comparing whether the two variables are pointing to the same memory location or not."
      ]
    },
    {
      "cell_type": "code",
      "metadata": {
        "colab": {
          "base_uri": "https://localhost:8080/"
        },
        "id": "p0Yxy7xSqpFR",
        "outputId": "880cafdc-3974-428a-99f4-474bbca82d24"
      },
      "source": [
        "True == 1"
      ],
      "execution_count": 28,
      "outputs": [
        {
          "output_type": "execute_result",
          "data": {
            "text/plain": [
              "True"
            ]
          },
          "metadata": {
            "tags": []
          },
          "execution_count": 28
        }
      ]
    },
    {
      "cell_type": "code",
      "metadata": {
        "colab": {
          "base_uri": "https://localhost:8080/"
        },
        "id": "9UN_YZ19tM9z",
        "outputId": "ccd122d1-84a8-426a-f49f-35783f04fdaf"
      },
      "source": [
        "False == 0"
      ],
      "execution_count": 29,
      "outputs": [
        {
          "output_type": "execute_result",
          "data": {
            "text/plain": [
              "True"
            ]
          },
          "metadata": {
            "tags": []
          },
          "execution_count": 29
        }
      ]
    },
    {
      "cell_type": "code",
      "metadata": {
        "colab": {
          "base_uri": "https://localhost:8080/"
        },
        "id": "K462D2MotODh",
        "outputId": "02277a5c-6c97-48e6-fd8e-52e0cbc25403"
      },
      "source": [
        "print(True or False)\n",
        "True+False"
      ],
      "execution_count": 34,
      "outputs": [
        {
          "output_type": "stream",
          "text": [
            "True\n"
          ],
          "name": "stdout"
        },
        {
          "output_type": "execute_result",
          "data": {
            "text/plain": [
              "1"
            ]
          },
          "metadata": {
            "tags": []
          },
          "execution_count": 34
        }
      ]
    },
    {
      "cell_type": "code",
      "metadata": {
        "colab": {
          "base_uri": "https://localhost:8080/"
        },
        "id": "r0gKvHbLtP2X",
        "outputId": "8acdf93e-92a8-47bf-bf35-cb0bacb7ccca"
      },
      "source": [
        "True and False"
      ],
      "execution_count": 35,
      "outputs": [
        {
          "output_type": "execute_result",
          "data": {
            "text/plain": [
              "False"
            ]
          },
          "metadata": {
            "tags": []
          },
          "execution_count": 35
        }
      ]
    },
    {
      "cell_type": "code",
      "metadata": {
        "colab": {
          "base_uri": "https://localhost:8080/"
        },
        "id": "CEaJvRldtQhm",
        "outputId": "f404334b-ae64-4dbd-a533-9933e9a2b669"
      },
      "source": [
        "not(True)"
      ],
      "execution_count": 36,
      "outputs": [
        {
          "output_type": "execute_result",
          "data": {
            "text/plain": [
              "False"
            ]
          },
          "metadata": {
            "tags": []
          },
          "execution_count": 36
        }
      ]
    },
    {
      "cell_type": "code",
      "metadata": {
        "colab": {
          "base_uri": "https://localhost:8080/"
        },
        "id": "VG3UxOW9teL5",
        "outputId": "51f47cf7-14e2-4ff8-a3bf-8d927ef43a89"
      },
      "source": [
        "1 == 1.0"
      ],
      "execution_count": 37,
      "outputs": [
        {
          "output_type": "execute_result",
          "data": {
            "text/plain": [
              "True"
            ]
          },
          "metadata": {
            "tags": []
          },
          "execution_count": 37
        }
      ]
    },
    {
      "cell_type": "code",
      "metadata": {
        "colab": {
          "base_uri": "https://localhost:8080/"
        },
        "id": "Zajc-xnAtv2Q",
        "outputId": "6af346f9-0739-444e-cc9c-5279107a7001"
      },
      "source": [
        "bool(2) == bool(1)"
      ],
      "execution_count": 41,
      "outputs": [
        {
          "output_type": "execute_result",
          "data": {
            "text/plain": [
              "True"
            ]
          },
          "metadata": {
            "tags": []
          },
          "execution_count": 41
        }
      ]
    },
    {
      "cell_type": "code",
      "metadata": {
        "colab": {
          "base_uri": "https://localhost:8080/"
        },
        "id": "6uT5w3zxtwp-",
        "outputId": "a9608419-f683-4b71-dcfb-39fde85a4a0e"
      },
      "source": [
        "1 is 1.0"
      ],
      "execution_count": 44,
      "outputs": [
        {
          "output_type": "execute_result",
          "data": {
            "text/plain": [
              "False"
            ]
          },
          "metadata": {
            "tags": []
          },
          "execution_count": 44
        }
      ]
    },
    {
      "cell_type": "code",
      "metadata": {
        "colab": {
          "base_uri": "https://localhost:8080/"
        },
        "id": "BdLG8vr7t4ns",
        "outputId": "d93055fa-c1ad-43da-8ee2-38d797633f24"
      },
      "source": [
        "x = []\n",
        "y = []\n",
        "x is y"
      ],
      "execution_count": 45,
      "outputs": [
        {
          "output_type": "execute_result",
          "data": {
            "text/plain": [
              "False"
            ]
          },
          "metadata": {
            "tags": []
          },
          "execution_count": 45
        }
      ]
    },
    {
      "cell_type": "code",
      "metadata": {
        "colab": {
          "base_uri": "https://localhost:8080/"
        },
        "id": "jraxFx8KuQxw",
        "outputId": "83ad1831-3c43-44cf-8891-af1d5813984d"
      },
      "source": [
        "x = 2\n",
        "y = 2\n",
        "x is y"
      ],
      "execution_count": 46,
      "outputs": [
        {
          "output_type": "execute_result",
          "data": {
            "text/plain": [
              "True"
            ]
          },
          "metadata": {
            "tags": []
          },
          "execution_count": 46
        }
      ]
    },
    {
      "cell_type": "code",
      "metadata": {
        "colab": {
          "base_uri": "https://localhost:8080/"
        },
        "id": "Kw2CJFy3uSEW",
        "outputId": "94b227d8-04a9-48ff-9408-4559be353861"
      },
      "source": [
        "a = 257\n",
        "b = 257\n",
        "a is b"
      ],
      "execution_count": 47,
      "outputs": [
        {
          "output_type": "execute_result",
          "data": {
            "text/plain": [
              "False"
            ]
          },
          "metadata": {
            "tags": []
          },
          "execution_count": 47
        }
      ]
    },
    {
      "cell_type": "code",
      "metadata": {
        "colab": {
          "base_uri": "https://localhost:8080/"
        },
        "id": "j5PlIXiAu_Qh",
        "outputId": "24979377-fcfa-467a-9b69-1d0dad70a031"
      },
      "source": [
        "a = -6\n",
        "b = -6\n",
        "a is b"
      ],
      "execution_count": 48,
      "outputs": [
        {
          "output_type": "execute_result",
          "data": {
            "text/plain": [
              "False"
            ]
          },
          "metadata": {
            "tags": []
          },
          "execution_count": 48
        }
      ]
    },
    {
      "cell_type": "code",
      "metadata": {
        "colab": {
          "base_uri": "https://localhost:8080/"
        },
        "id": "poXFvmcPvBi3",
        "outputId": "9b826923-0d61-4e9e-8c4b-97f396cb2dc3"
      },
      "source": [
        "a = 256\n",
        "b = 256\n",
        "a is b"
      ],
      "execution_count": 49,
      "outputs": [
        {
          "output_type": "execute_result",
          "data": {
            "text/plain": [
              "True"
            ]
          },
          "metadata": {
            "tags": []
          },
          "execution_count": 49
        }
      ]
    },
    {
      "cell_type": "code",
      "metadata": {
        "colab": {
          "base_uri": "https://localhost:8080/"
        },
        "id": "lRqGEdBhvEEn",
        "outputId": "395e9c3a-963b-496a-9239-ef110a64ff73"
      },
      "source": [
        "a = [1,2,3]\n",
        "b = a\n",
        "print(id(a), id(b))\n",
        "a is b"
      ],
      "execution_count": 50,
      "outputs": [
        {
          "output_type": "stream",
          "text": [
            "139903864442304 139903864442304\n"
          ],
          "name": "stdout"
        },
        {
          "output_type": "execute_result",
          "data": {
            "text/plain": [
              "True"
            ]
          },
          "metadata": {
            "tags": []
          },
          "execution_count": 50
        }
      ]
    },
    {
      "cell_type": "code",
      "metadata": {
        "colab": {
          "base_uri": "https://localhost:8080/"
        },
        "id": "gkauHlWYv0bm",
        "outputId": "059b4aed-066b-4bd5-890b-d918a0c0cfb1"
      },
      "source": [
        "a = [1,2,3]\n",
        "b = a\n",
        "print(id(a), id(b))\n",
        "b.append(1)\n",
        "print(a, b)\n",
        "print(id(a), id(b))"
      ],
      "execution_count": 52,
      "outputs": [
        {
          "output_type": "stream",
          "text": [
            "139903864430752 139903864430752\n",
            "[1, 2, 3, 1] [1, 2, 3, 1]\n",
            "139903864430752 139903864430752\n"
          ],
          "name": "stdout"
        }
      ]
    },
    {
      "cell_type": "code",
      "metadata": {
        "colab": {
          "base_uri": "https://localhost:8080/"
        },
        "id": "71rwG4YGv-RX",
        "outputId": "eaf5dc2f-aac1-4494-9b75-d9e63792ea94"
      },
      "source": [
        "a = [1,2,4]\n",
        "b = [1,2,4]\n",
        "a is b"
      ],
      "execution_count": 53,
      "outputs": [
        {
          "output_type": "execute_result",
          "data": {
            "text/plain": [
              "False"
            ]
          },
          "metadata": {
            "tags": []
          },
          "execution_count": 53
        }
      ]
    },
    {
      "cell_type": "code",
      "metadata": {
        "colab": {
          "base_uri": "https://localhost:8080/"
        },
        "id": "VcvlcZvLwH9R",
        "outputId": "fb26b975-f11f-4c60-a8cf-abb310a2e35b"
      },
      "source": [
        "a = [1,2,3]\n",
        "b = a.copy()\n",
        "print(id(a), id(b))\n",
        "a is b"
      ],
      "execution_count": 54,
      "outputs": [
        {
          "output_type": "stream",
          "text": [
            "139903864898336 139903864470256\n"
          ],
          "name": "stdout"
        },
        {
          "output_type": "execute_result",
          "data": {
            "text/plain": [
              "False"
            ]
          },
          "metadata": {
            "tags": []
          },
          "execution_count": 54
        }
      ]
    },
    {
      "cell_type": "code",
      "metadata": {
        "colab": {
          "base_uri": "https://localhost:8080/"
        },
        "id": "MWpaiJwEwlsD",
        "outputId": "e6f366f5-d52f-4b08-b350-ccaf440d62f9"
      },
      "source": [
        "a = 2\n",
        "b = 2\n",
        "print(a is b)\n",
        "print(a==b)"
      ],
      "execution_count": 55,
      "outputs": [
        {
          "output_type": "stream",
          "text": [
            "True\n",
            "True\n"
          ],
          "name": "stdout"
        }
      ]
    },
    {
      "cell_type": "code",
      "metadata": {
        "colab": {
          "base_uri": "https://localhost:8080/"
        },
        "id": "y1iGSQ7ixf1k",
        "outputId": "8d6872dc-c84f-4dbd-9eb6-3e34d83565c6"
      },
      "source": [
        "a = 257\n",
        "b = 257\n",
        "print(a is b)\n",
        "print(a==b)"
      ],
      "execution_count": 56,
      "outputs": [
        {
          "output_type": "stream",
          "text": [
            "False\n",
            "True\n"
          ],
          "name": "stdout"
        }
      ]
    },
    {
      "cell_type": "markdown",
      "metadata": {
        "id": "tOx1yA0m-ov4"
      },
      "source": [
        "# Python Lists\n",
        "\n",
        "### Lists are collection of arbitrary objects\n",
        "\n",
        "- Python Lists are ordered\n",
        "- They contain arbitrary objects (ie they do not have a fixed datatype)\n",
        "- They are mutable\n",
        "- They are dynamic\n",
        "- The elements can be accessed by index\n",
        "- They can be nested in depth\n",
        "\n",
        "Therefore, we redefine lists as an **ordered** **mutable** collection of objects of **different** types that is accessible by **indexing** and has the ability to be **nested** in depth. "
      ]
    },
    {
      "cell_type": "code",
      "metadata": {
        "colab": {
          "base_uri": "https://localhost:8080/"
        },
        "id": "_I6gXcQ2xjJd",
        "outputId": "712e4fc9-6bf7-4031-f1d8-fdb0da8cbb62"
      },
      "source": [
        "a = [1,2,3,4]\n",
        "b = [1,2,4,3]\n",
        "a is b"
      ],
      "execution_count": 57,
      "outputs": [
        {
          "output_type": "execute_result",
          "data": {
            "text/plain": [
              "False"
            ]
          },
          "metadata": {
            "tags": []
          },
          "execution_count": 57
        }
      ]
    },
    {
      "cell_type": "code",
      "metadata": {
        "colab": {
          "base_uri": "https://localhost:8080/"
        },
        "id": "yCxEWKq8EQbq",
        "outputId": "fe346e45-5621-4eba-b8cd-47f059ee373e"
      },
      "source": [
        "[1,2,3,4] == [1,2,3,4]"
      ],
      "execution_count": 58,
      "outputs": [
        {
          "output_type": "execute_result",
          "data": {
            "text/plain": [
              "True"
            ]
          },
          "metadata": {
            "tags": []
          },
          "execution_count": 58
        }
      ]
    },
    {
      "cell_type": "code",
      "metadata": {
        "colab": {
          "base_uri": "https://localhost:8080/"
        },
        "id": "KlVxu5RHEXWX",
        "outputId": "76cb1ea1-1184-455e-b0d7-ea42e88782b4"
      },
      "source": [
        "[4,3,2,1] == [1,2,3,4]"
      ],
      "execution_count": 59,
      "outputs": [
        {
          "output_type": "execute_result",
          "data": {
            "text/plain": [
              "False"
            ]
          },
          "metadata": {
            "tags": []
          },
          "execution_count": 59
        }
      ]
    },
    {
      "cell_type": "code",
      "metadata": {
        "colab": {
          "base_uri": "https://localhost:8080/"
        },
        "id": "suDMCa1iEZiy",
        "outputId": "3d57585f-b736-479a-9d98-6908968d968f"
      },
      "source": [
        "a = [1,\"India\",\"USA\",2]\n",
        "a"
      ],
      "execution_count": 60,
      "outputs": [
        {
          "output_type": "execute_result",
          "data": {
            "text/plain": [
              "[1, 'India', 'USA', 2]"
            ]
          },
          "metadata": {
            "tags": []
          },
          "execution_count": 60
        }
      ]
    },
    {
      "cell_type": "code",
      "metadata": {
        "colab": {
          "base_uri": "https://localhost:8080/"
        },
        "id": "jv3wIS4EEmNK",
        "outputId": "835d87db-0c63-4fc3-8590-e5ac5a326628"
      },
      "source": [
        "print(a[0])\n",
        "print(a[1])\n",
        "print(a[-1])\n",
        "print(a[-2])"
      ],
      "execution_count": 62,
      "outputs": [
        {
          "output_type": "stream",
          "text": [
            "1\n",
            "India\n",
            "2\n",
            "USA\n"
          ],
          "name": "stdout"
        }
      ]
    },
    {
      "cell_type": "markdown",
      "metadata": {
        "id": "fp7ve19ZE630"
      },
      "source": [
        "A = [1,2,3,4]\n",
        "\n",
        "\n",
        "A[0] = A[-4]\n",
        "\n",
        "A[1] = A[-3]\n",
        "\n",
        "A[2] = A[-2]\n",
        "\n",
        "A[3] = A[-1]"
      ]
    },
    {
      "cell_type": "code",
      "metadata": {
        "colab": {
          "base_uri": "https://localhost:8080/"
        },
        "id": "0Wt9q2y1Eyzi",
        "outputId": "4c2c24b1-cd39-489e-d9fe-a435b96fde9e"
      },
      "source": [
        "a = [1,2,3,4]\n",
        "a[0]==a[-4]"
      ],
      "execution_count": 65,
      "outputs": [
        {
          "output_type": "execute_result",
          "data": {
            "text/plain": [
              "True"
            ]
          },
          "metadata": {
            "tags": []
          },
          "execution_count": 65
        }
      ]
    },
    {
      "cell_type": "code",
      "metadata": {
        "colab": {
          "base_uri": "https://localhost:8080/"
        },
        "id": "Ja9dt23eFNRS",
        "outputId": "97e7b7d4-77be-4013-d1a5-3697230bdd51"
      },
      "source": [
        "a[0] is a[-4]"
      ],
      "execution_count": 66,
      "outputs": [
        {
          "output_type": "execute_result",
          "data": {
            "text/plain": [
              "True"
            ]
          },
          "metadata": {
            "tags": []
          },
          "execution_count": 66
        }
      ]
    },
    {
      "cell_type": "markdown",
      "metadata": {
        "id": "E5Gx0k6nFZRS"
      },
      "source": [
        "## List Slicing\n",
        "\n",
        "If A is a list, the expression A[m:n] returns the portion of a from index m to, but not including, index n"
      ]
    },
    {
      "cell_type": "code",
      "metadata": {
        "colab": {
          "base_uri": "https://localhost:8080/"
        },
        "id": "yvYti7NqFT_r",
        "outputId": "fbe5d8c3-6340-4423-d942-fbe1e8305870"
      },
      "source": [
        "A = [1,2,3,4]\n",
        "A[1:3]"
      ],
      "execution_count": 67,
      "outputs": [
        {
          "output_type": "execute_result",
          "data": {
            "text/plain": [
              "[2, 3]"
            ]
          },
          "metadata": {
            "tags": []
          },
          "execution_count": 67
        }
      ]
    },
    {
      "cell_type": "markdown",
      "metadata": {
        "id": "leD2hpkeGTtZ"
      },
      "source": [
        "Omitting the first index starts the slice at the beginning of the list, and omitting the second index extends the slice to the end of the list"
      ]
    },
    {
      "cell_type": "code",
      "metadata": {
        "colab": {
          "base_uri": "https://localhost:8080/"
        },
        "id": "xonwzHjpFgn3",
        "outputId": "81213a1f-c547-48a3-a936-152aa64596e8"
      },
      "source": [
        "A[:-1]"
      ],
      "execution_count": 69,
      "outputs": [
        {
          "output_type": "execute_result",
          "data": {
            "text/plain": [
              "[1, 2, 3]"
            ]
          },
          "metadata": {
            "tags": []
          },
          "execution_count": 69
        }
      ]
    },
    {
      "cell_type": "code",
      "metadata": {
        "colab": {
          "base_uri": "https://localhost:8080/"
        },
        "id": "sLWlcHtUFj5z",
        "outputId": "752f4e79-3f35-450d-87c0-8e911306941d"
      },
      "source": [
        "A[-1:]"
      ],
      "execution_count": 70,
      "outputs": [
        {
          "output_type": "execute_result",
          "data": {
            "text/plain": [
              "[4]"
            ]
          },
          "metadata": {
            "tags": []
          },
          "execution_count": 70
        }
      ]
    },
    {
      "cell_type": "code",
      "metadata": {
        "colab": {
          "base_uri": "https://localhost:8080/"
        },
        "id": "2i7saXjXFoxd",
        "outputId": "75f49c16-ee86-4b9a-b854-47cca56b8d85"
      },
      "source": [
        "A[1:-1]"
      ],
      "execution_count": 74,
      "outputs": [
        {
          "output_type": "execute_result",
          "data": {
            "text/plain": [
              "[2, 3]"
            ]
          },
          "metadata": {
            "tags": []
          },
          "execution_count": 74
        }
      ]
    },
    {
      "cell_type": "code",
      "metadata": {
        "colab": {
          "base_uri": "https://localhost:8080/"
        },
        "id": "XEoOx-QvFru6",
        "outputId": "f4e4c0a8-c00f-47f6-b1b4-24ae1a2162f0"
      },
      "source": [
        "# Adding the step size parameter\n",
        "A[0:3:2]"
      ],
      "execution_count": 77,
      "outputs": [
        {
          "output_type": "execute_result",
          "data": {
            "text/plain": [
              "[1, 3]"
            ]
          },
          "metadata": {
            "tags": []
          },
          "execution_count": 77
        }
      ]
    },
    {
      "cell_type": "code",
      "metadata": {
        "colab": {
          "base_uri": "https://localhost:8080/"
        },
        "id": "6Hx_vtNsF7BE",
        "outputId": "8e9badf5-ca4e-43d8-81f3-2b187e36caba"
      },
      "source": [
        "A[-3:-1]"
      ],
      "execution_count": 78,
      "outputs": [
        {
          "output_type": "execute_result",
          "data": {
            "text/plain": [
              "[2, 3]"
            ]
          },
          "metadata": {
            "tags": []
          },
          "execution_count": 78
        }
      ]
    },
    {
      "cell_type": "markdown",
      "metadata": {
        "id": "29oA8GerGbEb"
      },
      "source": [
        "**Important Note**: [:] operator works for the list in a similar fashion it works for strings. However, there is a subtle difference between them."
      ]
    },
    {
      "cell_type": "code",
      "metadata": {
        "colab": {
          "base_uri": "https://localhost:8080/"
        },
        "id": "Of1-Zip1Gyw5",
        "outputId": "413500be-bae3-4c3e-f118-50ca85b67efb"
      },
      "source": [
        "A = [\"Naruto\", \"Bleach\", \"Haikyuu!\", \"Jujustu Kaisen\"]\n",
        "B = \"Sasuke Uchiha\"\n",
        "print(A[:] is A)\n",
        "print(B[:] is B)"
      ],
      "execution_count": 79,
      "outputs": [
        {
          "output_type": "stream",
          "text": [
            "False\n",
            "True\n"
          ],
          "name": "stdout"
        }
      ]
    },
    {
      "cell_type": "markdown",
      "metadata": {
        "id": "SZBaTZLPHcCw"
      },
      "source": [
        "If S is a string then S[:] returns a reference to the object S\n",
        "\n",
        "If S is a list then A[:] returns a copy of that object"
      ]
    },
    {
      "cell_type": "code",
      "metadata": {
        "colab": {
          "base_uri": "https://localhost:8080/"
        },
        "id": "FU3n0mbRHrxT",
        "outputId": "49fb4657-84a6-4f3e-aab2-ddbf709f6ca4"
      },
      "source": [
        "# We can use the in and not in operators in lists similar to strings\n",
        "\n",
        "a = [1,2,3,4]\n",
        "print(1 in a)\n",
        "print(5 not in a)\n",
        "print(3 not in a)"
      ],
      "execution_count": 85,
      "outputs": [
        {
          "output_type": "stream",
          "text": [
            "True\n",
            "True\n",
            "False\n"
          ],
          "name": "stdout"
        }
      ]
    },
    {
      "cell_type": "code",
      "metadata": {
        "colab": {
          "base_uri": "https://localhost:8080/"
        },
        "id": "1brMtzNnIn28",
        "outputId": "f49480ee-09ff-405e-a26f-4e8ed7770f9d"
      },
      "source": [
        "# The concatenation (+) operator and replication operator(*)\n",
        "a = [1,2,3,4]\n",
        "print(a*2)\n",
        "print(a+ [\"I am the concatenated one\"])"
      ],
      "execution_count": 88,
      "outputs": [
        {
          "output_type": "stream",
          "text": [
            "[1, 2, 3, 4, 1, 2, 3, 4]\n",
            "[1, 2, 3, 4, 'I am the concatenated one']\n"
          ],
          "name": "stdout"
        }
      ]
    },
    {
      "cell_type": "code",
      "metadata": {
        "colab": {
          "base_uri": "https://localhost:8080/"
        },
        "id": "QTAEYnOYI1Zd",
        "outputId": "309d0968-ff66-462b-ee4f-580b41bf1006"
      },
      "source": [
        "# len(), min(), max()\n",
        "\n",
        "a = [1,2,3]\n",
        "print(len(a))\n",
        "print(\"The max: \", max(a), \"The min: \", min(a))"
      ],
      "execution_count": 90,
      "outputs": [
        {
          "output_type": "stream",
          "text": [
            "3\n",
            "The max:  3 The min:  1\n"
          ],
          "name": "stdout"
        }
      ]
    },
    {
      "cell_type": "code",
      "metadata": {
        "colab": {
          "base_uri": "https://localhost:8080/"
        },
        "id": "D8aQdrW2JKou",
        "outputId": "2490d337-2352-407e-f753-64d3fb4291b9"
      },
      "source": [
        "a = [1,2,\"3\"]\n",
        "print(len(a))"
      ],
      "execution_count": 91,
      "outputs": [
        {
          "output_type": "stream",
          "text": [
            "3\n"
          ],
          "name": "stdout"
        }
      ]
    },
    {
      "cell_type": "code",
      "metadata": {
        "colab": {
          "base_uri": "https://localhost:8080/",
          "height": 167
        },
        "id": "ocXPXuGyJYTd",
        "outputId": "2c5c6111-5223-4161-e1e5-190de2dce209"
      },
      "source": [
        "print(max(a), min(a))"
      ],
      "execution_count": 92,
      "outputs": [
        {
          "output_type": "error",
          "ename": "TypeError",
          "evalue": "ignored",
          "traceback": [
            "\u001b[0;31m---------------------------------------------------------------------------\u001b[0m",
            "\u001b[0;31mTypeError\u001b[0m                                 Traceback (most recent call last)",
            "\u001b[0;32m<ipython-input-92-35bf248ded4a>\u001b[0m in \u001b[0;36m<module>\u001b[0;34m()\u001b[0m\n\u001b[0;32m----> 1\u001b[0;31m \u001b[0mprint\u001b[0m\u001b[0;34m(\u001b[0m\u001b[0mmax\u001b[0m\u001b[0;34m(\u001b[0m\u001b[0ma\u001b[0m\u001b[0;34m)\u001b[0m\u001b[0;34m,\u001b[0m \u001b[0mmin\u001b[0m\u001b[0;34m(\u001b[0m\u001b[0ma\u001b[0m\u001b[0;34m)\u001b[0m\u001b[0;34m)\u001b[0m\u001b[0;34m\u001b[0m\u001b[0;34m\u001b[0m\u001b[0m\n\u001b[0m",
            "\u001b[0;31mTypeError\u001b[0m: '>' not supported between instances of 'str' and 'int'"
          ]
        }
      ]
    },
    {
      "cell_type": "code",
      "metadata": {
        "colab": {
          "base_uri": "https://localhost:8080/",
          "height": 53
        },
        "id": "2_hDxRqHJZxx",
        "outputId": "818a79c9-3f93-41bf-9dda-292ada96f65a"
      },
      "source": [
        "# Reversal is similar\n",
        "A = [1,2,3,4]\n",
        "print(A[::-1])\n",
        "s = \"ekataH ihsakaK droL\"\n",
        "s[::-1]"
      ],
      "execution_count": 94,
      "outputs": [
        {
          "output_type": "stream",
          "text": [
            "[4, 3, 2, 1]\n"
          ],
          "name": "stdout"
        },
        {
          "output_type": "execute_result",
          "data": {
            "application/vnd.google.colaboratory.intrinsic+json": {
              "type": "string"
            },
            "text/plain": [
              "'Lord Kakashi Hatake'"
            ]
          },
          "metadata": {
            "tags": []
          },
          "execution_count": 94
        }
      ]
    },
    {
      "cell_type": "code",
      "metadata": {
        "colab": {
          "base_uri": "https://localhost:8080/"
        },
        "id": "BnRtDm2AJqdk",
        "outputId": "30db8bee-4cfc-4208-a5bf-678e5a7d6bb0"
      },
      "source": [
        "# Nesting\n",
        "\n",
        "a = [1, [2,3], [[4,5], [2,3]], [1, [\"Narutooooo\", [\"Sasukeeee\", [\"Can you catch me?\", \"Or Missed?\"]]]]]\n",
        "a"
      ],
      "execution_count": 104,
      "outputs": [
        {
          "output_type": "execute_result",
          "data": {
            "text/plain": [
              "[1,\n",
              " [2, 3],\n",
              " [[4, 5], [2, 3]],\n",
              " [1, ['Narutooooo', ['Sasukeeee', ['Can you catch me?', 'Or Missed?']]]]]"
            ]
          },
          "metadata": {
            "tags": []
          },
          "execution_count": 104
        }
      ]
    },
    {
      "cell_type": "code",
      "metadata": {
        "colab": {
          "base_uri": "https://localhost:8080/"
        },
        "id": "Tmz5yYUcMj6N",
        "outputId": "22aac397-751b-45c3-842f-bdc846f713fe"
      },
      "source": [
        "a[2][1]"
      ],
      "execution_count": 105,
      "outputs": [
        {
          "output_type": "execute_result",
          "data": {
            "text/plain": [
              "[2, 3]"
            ]
          },
          "metadata": {
            "tags": []
          },
          "execution_count": 105
        }
      ]
    },
    {
      "cell_type": "code",
      "metadata": {
        "colab": {
          "base_uri": "https://localhost:8080/"
        },
        "id": "j5ImTdKkKH7Y",
        "outputId": "f0e65022-7ff3-4298-d8dc-ff0c6a480d50"
      },
      "source": [
        "a[2][1][0]"
      ],
      "execution_count": 106,
      "outputs": [
        {
          "output_type": "execute_result",
          "data": {
            "text/plain": [
              "2"
            ]
          },
          "metadata": {
            "tags": []
          },
          "execution_count": 106
        }
      ]
    },
    {
      "cell_type": "code",
      "metadata": {
        "colab": {
          "base_uri": "https://localhost:8080/",
          "height": 35
        },
        "id": "BOGHSzdRMmOb",
        "outputId": "b1f855dc-4f3e-4592-9849-71df0da749ce"
      },
      "source": [
        "a[3][1][1][0]"
      ],
      "execution_count": 108,
      "outputs": [
        {
          "output_type": "execute_result",
          "data": {
            "application/vnd.google.colaboratory.intrinsic+json": {
              "type": "string"
            },
            "text/plain": [
              "'Sasukeeee'"
            ]
          },
          "metadata": {
            "tags": []
          },
          "execution_count": 108
        }
      ]
    },
    {
      "cell_type": "code",
      "metadata": {
        "colab": {
          "base_uri": "https://localhost:8080/"
        },
        "id": "oAXeg7YdNeiF",
        "outputId": "d2cd51a6-f0d2-41d4-98e2-86b1da571b23"
      },
      "source": [
        "# Mutable\n",
        "a = [1,\"Naruto\",44]\n",
        "print(a)\n",
        "a[1] = \"Bye Naruto\"\n",
        "print(a)"
      ],
      "execution_count": 114,
      "outputs": [
        {
          "output_type": "stream",
          "text": [
            "[1, 'Naruto', 44]\n",
            "[1, 'Bye Naruto', 44]\n"
          ],
          "name": "stdout"
        }
      ]
    },
    {
      "cell_type": "code",
      "metadata": {
        "colab": {
          "base_uri": "https://localhost:8080/",
          "height": 203
        },
        "id": "KMiKiR9aNmeJ",
        "outputId": "23f49c72-34e5-41e1-ef1d-cd99f16ff2b6"
      },
      "source": [
        "# Let us try making Naruto to Boruto\n",
        "a[1][0] = \"B\"\n",
        "print(a)"
      ],
      "execution_count": 115,
      "outputs": [
        {
          "output_type": "error",
          "ename": "TypeError",
          "evalue": "ignored",
          "traceback": [
            "\u001b[0;31m---------------------------------------------------------------------------\u001b[0m",
            "\u001b[0;31mTypeError\u001b[0m                                 Traceback (most recent call last)",
            "\u001b[0;32m<ipython-input-115-12887200ee14>\u001b[0m in \u001b[0;36m<module>\u001b[0;34m()\u001b[0m\n\u001b[1;32m      1\u001b[0m \u001b[0;31m# Let us try making Naruto to Boruto\u001b[0m\u001b[0;34m\u001b[0m\u001b[0;34m\u001b[0m\u001b[0;34m\u001b[0m\u001b[0m\n\u001b[0;32m----> 2\u001b[0;31m \u001b[0ma\u001b[0m\u001b[0;34m[\u001b[0m\u001b[0;36m1\u001b[0m\u001b[0;34m]\u001b[0m\u001b[0;34m[\u001b[0m\u001b[0;36m0\u001b[0m\u001b[0;34m]\u001b[0m \u001b[0;34m=\u001b[0m \u001b[0;34m\"B\"\u001b[0m\u001b[0;34m\u001b[0m\u001b[0;34m\u001b[0m\u001b[0m\n\u001b[0m\u001b[1;32m      3\u001b[0m \u001b[0mprint\u001b[0m\u001b[0;34m(\u001b[0m\u001b[0ma\u001b[0m\u001b[0;34m)\u001b[0m\u001b[0;34m\u001b[0m\u001b[0;34m\u001b[0m\u001b[0m\n",
            "\u001b[0;31mTypeError\u001b[0m: 'str' object does not support item assignment"
          ]
        }
      ]
    },
    {
      "cell_type": "code",
      "metadata": {
        "colab": {
          "base_uri": "https://localhost:8080/"
        },
        "id": "OpPXPuY2Nz_t",
        "outputId": "e11cea9d-4a17-40a9-b6df-99024720f525"
      },
      "source": [
        "a+=[\"Sasuke\"]\n",
        "a"
      ],
      "execution_count": 116,
      "outputs": [
        {
          "output_type": "execute_result",
          "data": {
            "text/plain": [
              "[1, 'Bye Naruto', 44, 'Sasuke']"
            ]
          },
          "metadata": {
            "tags": []
          },
          "execution_count": 116
        }
      ]
    },
    {
      "cell_type": "markdown",
      "metadata": {
        "id": "GJxq8aU2OcXH"
      },
      "source": [
        "Technically, we do not say list can be concatenated with new elements. A list must be concatenated with an object that is iterable."
      ]
    },
    {
      "cell_type": "code",
      "metadata": {
        "colab": {
          "base_uri": "https://localhost:8080/"
        },
        "id": "Ok2Q2DB9OROR",
        "outputId": "903fdfea-4322-4686-9825-214bc9cead71"
      },
      "source": [
        "a+=\"Sasuke\"\n",
        "a"
      ],
      "execution_count": 117,
      "outputs": [
        {
          "output_type": "execute_result",
          "data": {
            "text/plain": [
              "[1, 'Bye Naruto', 44, 'Sasuke', 'S', 'a', 's', 'u', 'k', 'e']"
            ]
          },
          "metadata": {
            "tags": []
          },
          "execution_count": 117
        }
      ]
    },
    {
      "cell_type": "code",
      "metadata": {
        "id": "i2D7BbEUOt7u"
      },
      "source": [
        "a.append(\"Sasuke\")"
      ],
      "execution_count": 118,
      "outputs": []
    },
    {
      "cell_type": "code",
      "metadata": {
        "colab": {
          "base_uri": "https://localhost:8080/"
        },
        "id": "DszFrnaYPgGL",
        "outputId": "d7ebb532-5bb0-4ffa-808d-0ea0673f8f53"
      },
      "source": [
        "a"
      ],
      "execution_count": 119,
      "outputs": [
        {
          "output_type": "execute_result",
          "data": {
            "text/plain": [
              "[1, 'Bye Naruto', 44, 'Sasuke', 'S', 'a', 's', 'u', 'k', 'e', 'Sasuke']"
            ]
          },
          "metadata": {
            "tags": []
          },
          "execution_count": 119
        }
      ]
    },
    {
      "cell_type": "code",
      "metadata": {
        "colab": {
          "base_uri": "https://localhost:8080/"
        },
        "id": "XQq8SsROPg96",
        "outputId": "8709d724-5a06-4076-89db-bec7842bb3a2"
      },
      "source": [
        "# Extends a list with the objects from an iterable.\n",
        "a.extend([1,2,3])\n",
        "# behaves same as + operator\n",
        "a"
      ],
      "execution_count": 121,
      "outputs": [
        {
          "output_type": "execute_result",
          "data": {
            "text/plain": [
              "[1,\n",
              " 'Bye Naruto',\n",
              " 44,\n",
              " 'Sasuke',\n",
              " 'S',\n",
              " 'a',\n",
              " 's',\n",
              " 'u',\n",
              " 'k',\n",
              " 'e',\n",
              " 'Sasuke',\n",
              " 1,\n",
              " 2,\n",
              " 3]"
            ]
          },
          "metadata": {
            "tags": []
          },
          "execution_count": 121
        }
      ]
    },
    {
      "cell_type": "code",
      "metadata": {
        "colab": {
          "base_uri": "https://localhost:8080/"
        },
        "id": "6h57IqXbPvKZ",
        "outputId": "726b9642-ae0d-4aec-ecd8-5954c109d782"
      },
      "source": [
        "# a.insert(<index>, <object>)\n",
        "a.insert(14, \"Hinata\")\n",
        "a.insert(14, \"Hinata\")\n",
        "a"
      ],
      "execution_count": 123,
      "outputs": [
        {
          "output_type": "execute_result",
          "data": {
            "text/plain": [
              "[1,\n",
              " 'Bye Naruto',\n",
              " 44,\n",
              " 'Sasuke',\n",
              " 'S',\n",
              " 'a',\n",
              " 's',\n",
              " 'u',\n",
              " 'k',\n",
              " 'e',\n",
              " 'Sasuke',\n",
              " 1,\n",
              " 2,\n",
              " 3,\n",
              " 'Hinata',\n",
              " 'Hinata']"
            ]
          },
          "metadata": {
            "tags": []
          },
          "execution_count": 123
        }
      ]
    },
    {
      "cell_type": "code",
      "metadata": {
        "colab": {
          "base_uri": "https://localhost:8080/"
        },
        "id": "qN7rJj3NQvkM",
        "outputId": "a6e4faea-236f-478b-d338-a6986cf1db23"
      },
      "source": [
        "a.remove(\"Hinata\")\n",
        "a"
      ],
      "execution_count": 124,
      "outputs": [
        {
          "output_type": "execute_result",
          "data": {
            "text/plain": [
              "[1,\n",
              " 'Bye Naruto',\n",
              " 44,\n",
              " 'Sasuke',\n",
              " 'S',\n",
              " 'a',\n",
              " 's',\n",
              " 'u',\n",
              " 'k',\n",
              " 'e',\n",
              " 'Sasuke',\n",
              " 1,\n",
              " 2,\n",
              " 3,\n",
              " 'Hinata']"
            ]
          },
          "metadata": {
            "tags": []
          },
          "execution_count": 124
        }
      ]
    },
    {
      "cell_type": "code",
      "metadata": {
        "colab": {
          "base_uri": "https://localhost:8080/"
        },
        "id": "-yBGxrO4Q7GF",
        "outputId": "0b2579f8-b19d-45b2-cdc7-38cc7ecf9a73"
      },
      "source": [
        "# a.pop()\n",
        "# It returns the value removed\n",
        "# It can remove a specific index\n",
        "a.pop(-1)\n",
        "a"
      ],
      "execution_count": 125,
      "outputs": [
        {
          "output_type": "execute_result",
          "data": {
            "text/plain": [
              "[1,\n",
              " 'Bye Naruto',\n",
              " 44,\n",
              " 'Sasuke',\n",
              " 'S',\n",
              " 'a',\n",
              " 's',\n",
              " 'u',\n",
              " 'k',\n",
              " 'e',\n",
              " 'Sasuke',\n",
              " 1,\n",
              " 2,\n",
              " 3]"
            ]
          },
          "metadata": {
            "tags": []
          },
          "execution_count": 125
        }
      ]
    },
    {
      "cell_type": "code",
      "metadata": {
        "colab": {
          "base_uri": "https://localhost:8080/"
        },
        "id": "tLWHnNu7RKI_",
        "outputId": "be0a7cb9-93a1-403d-aed3-c27adb5f31b0"
      },
      "source": [
        "# Dynamic\n",
        "a[2:2] = \"I got between the list!\"\n",
        "a"
      ],
      "execution_count": 126,
      "outputs": [
        {
          "output_type": "execute_result",
          "data": {
            "text/plain": [
              "[1,\n",
              " 'Bye Naruto',\n",
              " 'I',\n",
              " ' ',\n",
              " 'g',\n",
              " 'o',\n",
              " 't',\n",
              " ' ',\n",
              " 'b',\n",
              " 'e',\n",
              " 't',\n",
              " 'w',\n",
              " 'e',\n",
              " 'e',\n",
              " 'n',\n",
              " ' ',\n",
              " 't',\n",
              " 'h',\n",
              " 'e',\n",
              " ' ',\n",
              " 'l',\n",
              " 'i',\n",
              " 's',\n",
              " 't',\n",
              " '!',\n",
              " 44,\n",
              " 'Sasuke',\n",
              " 'S',\n",
              " 'a',\n",
              " 's',\n",
              " 'u',\n",
              " 'k',\n",
              " 'e',\n",
              " 'Sasuke',\n",
              " 1,\n",
              " 2,\n",
              " 3]"
            ]
          },
          "metadata": {
            "tags": []
          },
          "execution_count": 126
        }
      ]
    },
    {
      "cell_type": "markdown",
      "metadata": {
        "id": "fyCuV_sZR1cn"
      },
      "source": [
        "# Tuples\n",
        "\n",
        "Tuples are same as lists except for the following characteristics:\n",
        "\n",
        "- Tuples are immutable\n",
        "- They are defined using () and not []"
      ]
    },
    {
      "cell_type": "code",
      "metadata": {
        "colab": {
          "base_uri": "https://localhost:8080/"
        },
        "id": "KEMqi7TaRpdM",
        "outputId": "401b4cc6-5c0e-4eba-8f9a-7587e60f37cb"
      },
      "source": [
        "c = (1,2,3)\n",
        "c[1]"
      ],
      "execution_count": 128,
      "outputs": [
        {
          "output_type": "execute_result",
          "data": {
            "text/plain": [
              "2"
            ]
          },
          "metadata": {
            "tags": []
          },
          "execution_count": 128
        }
      ]
    },
    {
      "cell_type": "code",
      "metadata": {
        "colab": {
          "base_uri": "https://localhost:8080/",
          "height": 167
        },
        "id": "SP7SBMMhRw4I",
        "outputId": "3a4e3698-da41-4285-bbe9-92e83134ef31"
      },
      "source": [
        "c[1]=4"
      ],
      "execution_count": 129,
      "outputs": [
        {
          "output_type": "error",
          "ename": "TypeError",
          "evalue": "ignored",
          "traceback": [
            "\u001b[0;31m---------------------------------------------------------------------------\u001b[0m",
            "\u001b[0;31mTypeError\u001b[0m                                 Traceback (most recent call last)",
            "\u001b[0;32m<ipython-input-129-6cf5a07d14ca>\u001b[0m in \u001b[0;36m<module>\u001b[0;34m()\u001b[0m\n\u001b[0;32m----> 1\u001b[0;31m \u001b[0mc\u001b[0m\u001b[0;34m[\u001b[0m\u001b[0;36m1\u001b[0m\u001b[0;34m]\u001b[0m\u001b[0;34m=\u001b[0m\u001b[0;36m4\u001b[0m\u001b[0;34m\u001b[0m\u001b[0;34m\u001b[0m\u001b[0m\n\u001b[0m",
            "\u001b[0;31mTypeError\u001b[0m: 'tuple' object does not support item assignment"
          ]
        }
      ]
    },
    {
      "cell_type": "code",
      "metadata": {
        "colab": {
          "base_uri": "https://localhost:8080/"
        },
        "id": "kCFjWTmmUMpx",
        "outputId": "8b13f9cf-1fba-495b-d5ca-59419473bfbf"
      },
      "source": [
        "c[::-1]"
      ],
      "execution_count": 130,
      "outputs": [
        {
          "output_type": "execute_result",
          "data": {
            "text/plain": [
              "(3, 2, 1)"
            ]
          },
          "metadata": {
            "tags": []
          },
          "execution_count": 130
        }
      ]
    },
    {
      "cell_type": "markdown",
      "metadata": {
        "id": "Un_B1xC8UU05"
      },
      "source": [
        "**Why do we need Tuples?**\n",
        "\n",
        "- Program execution is faster for large sized data storage\n",
        "- To guard sensitive data"
      ]
    },
    {
      "cell_type": "markdown",
      "metadata": {
        "id": "GzRzZ5h3VjYf"
      },
      "source": [
        "# Dictionaries\n",
        "\n",
        "The composite datatype made of up key-value pairs.\n",
        "Dictionaries and lists share the following characteristics:\n",
        "\n",
        "- Mutable\n",
        "- Dynamic(they can grow and shrink as needed)\n",
        "- Nesting (A list can contain another list. A dictionary can contain another dictionary. A dictionary can also contain a list, and vice versa)\n",
        "\n",
        "Dictionaries differ from lists in the way the elements can be accessed.\n",
        "\n",
        "- Dictionaries elements can be accessed using keys\n",
        "- Lists elements can be accessed using indices"
      ]
    },
    {
      "cell_type": "code",
      "metadata": {
        "colab": {
          "base_uri": "https://localhost:8080/"
        },
        "id": "OKBD9ITEUT2U",
        "outputId": "39f4b778-fe6c-4008-c860-f1467d553e5d"
      },
      "source": [
        "# Defining Dictionaries\n",
        "First_Way = {\"Sasuke\":\"Naruto\",\n",
        "             \"Ichigo\":\"Bleach\",\n",
        "             \"Sugawara\":\"Haikyuu!\"}\n",
        "Second_Way = dict([(\"Sasuke\", \"Naruto\"),\n",
        "                    (\"Ichigo\",\"Bleach\"),\n",
        "                    (\"Sugawara\", \"Haikyuu!\")])\n",
        "Third_Way  = dict(Sasuke=\"Naruto\",\n",
        "                  Ichigo=\"Bleach\",\n",
        "                  Sugawara=\"Haikyuu!\")\n",
        "print(First_Way, Second_Way, Third_Way)"
      ],
      "execution_count": 132,
      "outputs": [
        {
          "output_type": "stream",
          "text": [
            "{'Sasuke': 'Naruto', 'Ichigo': 'Bleach', 'Sugawara': 'Haikyuu!'} {'Sasuke': 'Naruto', 'Ichigo': 'Bleach', 'Sugawara': 'Haikyuu!'} {'Sasuke': 'Naruto', 'Ichigo': 'Bleach', 'Sugawara': 'Haikyuu!'}\n"
          ],
          "name": "stdout"
        }
      ]
    },
    {
      "cell_type": "code",
      "metadata": {
        "colab": {
          "base_uri": "https://localhost:8080/",
          "height": 35
        },
        "id": "mFgna0MqZ2Yu",
        "outputId": "05362c33-49b0-4133-e511-62fc1c83efec"
      },
      "source": [
        "First_Way[\"Sasuke\"]"
      ],
      "execution_count": 133,
      "outputs": [
        {
          "output_type": "execute_result",
          "data": {
            "application/vnd.google.colaboratory.intrinsic+json": {
              "type": "string"
            },
            "text/plain": [
              "'Naruto'"
            ]
          },
          "metadata": {
            "tags": []
          },
          "execution_count": 133
        }
      ]
    },
    {
      "cell_type": "code",
      "metadata": {
        "colab": {
          "base_uri": "https://localhost:8080/"
        },
        "id": "YeZI-rJNc11L",
        "outputId": "4867ee74-f8c7-435f-a583-be0471477422"
      },
      "source": [
        "d = {(1,2,3):\"Amazon\", (4,5,6):\"Flipkart\"}\n",
        "d"
      ],
      "execution_count": 134,
      "outputs": [
        {
          "output_type": "execute_result",
          "data": {
            "text/plain": [
              "{(1, 2, 3): 'Amazon', (4, 5, 6): 'Flipkart'}"
            ]
          },
          "metadata": {
            "tags": []
          },
          "execution_count": 134
        }
      ]
    },
    {
      "cell_type": "code",
      "metadata": {
        "colab": {
          "base_uri": "https://localhost:8080/",
          "height": 167
        },
        "id": "_nzSbsN4d78_",
        "outputId": "33595535-490f-48b4-ba95-4e8889ec9af6"
      },
      "source": [
        "e = {[1,2]:\"Cannot Happen\"}"
      ],
      "execution_count": 135,
      "outputs": [
        {
          "output_type": "error",
          "ename": "TypeError",
          "evalue": "ignored",
          "traceback": [
            "\u001b[0;31m---------------------------------------------------------------------------\u001b[0m",
            "\u001b[0;31mTypeError\u001b[0m                                 Traceback (most recent call last)",
            "\u001b[0;32m<ipython-input-135-02b5a62b9f2c>\u001b[0m in \u001b[0;36m<module>\u001b[0;34m()\u001b[0m\n\u001b[0;32m----> 1\u001b[0;31m \u001b[0me\u001b[0m \u001b[0;34m=\u001b[0m \u001b[0;34m{\u001b[0m\u001b[0;34m[\u001b[0m\u001b[0;36m1\u001b[0m\u001b[0;34m,\u001b[0m\u001b[0;36m2\u001b[0m\u001b[0;34m]\u001b[0m\u001b[0;34m:\u001b[0m\u001b[0;34m\"Cannot Happen\"\u001b[0m\u001b[0;34m}\u001b[0m\u001b[0;34m\u001b[0m\u001b[0;34m\u001b[0m\u001b[0m\n\u001b[0m",
            "\u001b[0;31mTypeError\u001b[0m: unhashable type: 'list'"
          ]
        }
      ]
    },
    {
      "cell_type": "markdown",
      "metadata": {
        "id": "gl6bxL0NeTaV"
      },
      "source": [
        "A dictionary key should be unhashable by nature which means that it must be passed to a hash function. A hash function takes data of arbitrary size and maps it to a relatively simpler fixed-size value called a hash value (or simply hash), which is used for table lookup and comparison."
      ]
    },
    {
      "cell_type": "code",
      "metadata": {
        "colab": {
          "base_uri": "https://localhost:8080/"
        },
        "id": "wvjeMdt_eAfK",
        "outputId": "b3caa251-4f15-4d7d-c879-ec2fc82a7c25"
      },
      "source": [
        "# clear method\n",
        "m = {1:2, 2:3}\n",
        "print(m)\n",
        "m.clear()\n",
        "print(m)"
      ],
      "execution_count": 136,
      "outputs": [
        {
          "output_type": "stream",
          "text": [
            "{1: 2, 2: 3}\n",
            "{}\n"
          ],
          "name": "stdout"
        }
      ]
    },
    {
      "cell_type": "code",
      "metadata": {
        "colab": {
          "base_uri": "https://localhost:8080/"
        },
        "id": "ZbfDel3nhJ3E",
        "outputId": "8ea83924-6d36-4928-83ad-3c6e39a5d5fc"
      },
      "source": [
        "# get() provides the value of the key passed as parameter\n",
        "m = {1:2, 3:4}\n",
        "m.get(1)"
      ],
      "execution_count": 139,
      "outputs": [
        {
          "output_type": "execute_result",
          "data": {
            "text/plain": [
              "2"
            ]
          },
          "metadata": {
            "tags": []
          },
          "execution_count": 139
        }
      ]
    },
    {
      "cell_type": "code",
      "metadata": {
        "colab": {
          "base_uri": "https://localhost:8080/"
        },
        "id": "L0b2jW8epvTt",
        "outputId": "b92671ee-4455-4e15-fe66-92b1827db658"
      },
      "source": [
        "# items() returns a list of tuples containing the key-value pairs in the dictionary\n",
        "m.items()"
      ],
      "execution_count": 140,
      "outputs": [
        {
          "output_type": "execute_result",
          "data": {
            "text/plain": [
              "dict_items([(1, 2), (3, 4)])"
            ]
          },
          "metadata": {
            "tags": []
          },
          "execution_count": 140
        }
      ]
    },
    {
      "cell_type": "code",
      "metadata": {
        "colab": {
          "base_uri": "https://localhost:8080/"
        },
        "id": "m1_Tn0MRqRuT",
        "outputId": "44abc568-6dba-4875-efb6-8271a949d345"
      },
      "source": [
        "# keys() and values() returns the same\n",
        "print(m.keys())\n",
        "print(m.values())"
      ],
      "execution_count": 141,
      "outputs": [
        {
          "output_type": "stream",
          "text": [
            "dict_keys([1, 3])\n",
            "dict_values([2, 4])\n"
          ],
          "name": "stdout"
        }
      ]
    },
    {
      "cell_type": "code",
      "metadata": {
        "colab": {
          "base_uri": "https://localhost:8080/"
        },
        "id": "u7h6Hkmsqfwv",
        "outputId": "fec123cd-8757-4a35-f8a6-9eeb744eb021"
      },
      "source": [
        "# pop() removes a key from a dictionary, if it is present, and returns its value.\n",
        "# However, it raises an exception if the key is not found in the dictionary\n",
        "m.pop(1)"
      ],
      "execution_count": 143,
      "outputs": [
        {
          "output_type": "execute_result",
          "data": {
            "text/plain": [
              "2"
            ]
          },
          "metadata": {
            "tags": []
          },
          "execution_count": 143
        }
      ]
    },
    {
      "cell_type": "code",
      "metadata": {
        "colab": {
          "base_uri": "https://localhost:8080/",
          "height": 167
        },
        "id": "Kff61kLZq6HO",
        "outputId": "36e92765-da05-4179-e883-85fc883b4224"
      },
      "source": [
        "m.pop(1)"
      ],
      "execution_count": 144,
      "outputs": [
        {
          "output_type": "error",
          "ename": "KeyError",
          "evalue": "ignored",
          "traceback": [
            "\u001b[0;31m---------------------------------------------------------------------------\u001b[0m",
            "\u001b[0;31mKeyError\u001b[0m                                  Traceback (most recent call last)",
            "\u001b[0;32m<ipython-input-144-9387c02f60e4>\u001b[0m in \u001b[0;36m<module>\u001b[0;34m()\u001b[0m\n\u001b[0;32m----> 1\u001b[0;31m \u001b[0mm\u001b[0m\u001b[0;34m.\u001b[0m\u001b[0mpop\u001b[0m\u001b[0;34m(\u001b[0m\u001b[0;36m1\u001b[0m\u001b[0;34m)\u001b[0m\u001b[0;34m\u001b[0m\u001b[0;34m\u001b[0m\u001b[0m\n\u001b[0m",
            "\u001b[0;31mKeyError\u001b[0m: 1"
          ]
        }
      ]
    },
    {
      "cell_type": "code",
      "metadata": {
        "colab": {
          "base_uri": "https://localhost:8080/"
        },
        "id": "6g7ri04-q-Ck",
        "outputId": "c397edd8-acf5-4ec9-ff07-87e403463967"
      },
      "source": [
        "# popitem() removes the last key-value pair from the dictionary\n",
        "m.popitem()"
      ],
      "execution_count": 145,
      "outputs": [
        {
          "output_type": "execute_result",
          "data": {
            "text/plain": [
              "(3, 4)"
            ]
          },
          "metadata": {
            "tags": []
          },
          "execution_count": 145
        }
      ]
    },
    {
      "cell_type": "code",
      "metadata": {
        "colab": {
          "base_uri": "https://localhost:8080/",
          "height": 185
        },
        "id": "5XeMtCNXrIGW",
        "outputId": "1b02bd6a-50f2-46e9-f2de-dbb832222f27"
      },
      "source": [
        "# If dictionary is empty popitem() raises an exception\n",
        "m.popitem()"
      ],
      "execution_count": 146,
      "outputs": [
        {
          "output_type": "error",
          "ename": "KeyError",
          "evalue": "ignored",
          "traceback": [
            "\u001b[0;31m---------------------------------------------------------------------------\u001b[0m",
            "\u001b[0;31mKeyError\u001b[0m                                  Traceback (most recent call last)",
            "\u001b[0;32m<ipython-input-146-049c039a6be7>\u001b[0m in \u001b[0;36m<module>\u001b[0;34m()\u001b[0m\n\u001b[1;32m      1\u001b[0m \u001b[0;31m# If dictionary is empty popitem() raises an exception\u001b[0m\u001b[0;34m\u001b[0m\u001b[0;34m\u001b[0m\u001b[0;34m\u001b[0m\u001b[0m\n\u001b[0;32m----> 2\u001b[0;31m \u001b[0mm\u001b[0m\u001b[0;34m.\u001b[0m\u001b[0mpopitem\u001b[0m\u001b[0;34m(\u001b[0m\u001b[0;34m)\u001b[0m\u001b[0;34m\u001b[0m\u001b[0;34m\u001b[0m\u001b[0m\n\u001b[0m",
            "\u001b[0;31mKeyError\u001b[0m: 'popitem(): dictionary is empty'"
          ]
        }
      ]
    },
    {
      "cell_type": "code",
      "metadata": {
        "colab": {
          "base_uri": "https://localhost:8080/"
        },
        "id": "ntBnTBDPrPjC",
        "outputId": "2bcced2b-a485-4da6-ecae-d1298c167bd2"
      },
      "source": [
        "# update - Merges a dictionary with another dictionary or with an iterable of key-value pairs.\n",
        "d1 = {\"Naruto\":\"Sasuke\", \"Ichigo\":\"Rukia\"}\n",
        "d2 = {\"Shoyo\":\"Kageyama\", \"Goju\":\"Itadori\"}\n",
        "print(d1.update(d2))\n",
        "print(d1)"
      ],
      "execution_count": 150,
      "outputs": [
        {
          "output_type": "stream",
          "text": [
            "None\n",
            "{'Naruto': 'Sasuke', 'Ichigo': 'Rukia', 'Shoyo': 'Kageyama', 'Goju': 'Itadori'}\n"
          ],
          "name": "stdout"
        }
      ]
    },
    {
      "cell_type": "markdown",
      "metadata": {
        "id": "jU7niZlgr8L4"
      },
      "source": [
        "# Sets\n",
        "\n",
        "- Sets are unordered collection of objects in Python\n",
        "- They do not allow duplicate elements\n",
        "- A set is mutable, however the elements contained within it should be immutable\n"
      ]
    },
    {
      "cell_type": "code",
      "metadata": {
        "colab": {
          "base_uri": "https://localhost:8080/"
        },
        "id": "kXg4-FkTrj21",
        "outputId": "df5a79f7-4bfd-4235-b995-109e7c1fd275"
      },
      "source": [
        "a = set([1,2,3,4])\n",
        "a"
      ],
      "execution_count": 7,
      "outputs": [
        {
          "output_type": "execute_result",
          "data": {
            "text/plain": [
              "{1, 2, 3, 4}"
            ]
          },
          "metadata": {
            "tags": []
          },
          "execution_count": 7
        }
      ]
    },
    {
      "cell_type": "code",
      "metadata": {
        "colab": {
          "base_uri": "https://localhost:8080/"
        },
        "id": "rdfUgp4W8G0w",
        "outputId": "ccf6bdc6-2cef-43a5-9ee7-4a5b314f5677"
      },
      "source": [
        "b = set()\n",
        "print(type(b))\n",
        "bool(b)"
      ],
      "execution_count": 5,
      "outputs": [
        {
          "output_type": "stream",
          "text": [
            "<class 'set'>\n"
          ],
          "name": "stdout"
        },
        {
          "output_type": "execute_result",
          "data": {
            "text/plain": [
              "False"
            ]
          },
          "metadata": {
            "tags": []
          },
          "execution_count": 5
        }
      ]
    },
    {
      "cell_type": "code",
      "metadata": {
        "colab": {
          "base_uri": "https://localhost:8080/"
        },
        "id": "qnecXrkhDdct",
        "outputId": "d25ae412-d030-4455-a817-12b50a49c9f4"
      },
      "source": [
        "len(a)"
      ],
      "execution_count": 8,
      "outputs": [
        {
          "output_type": "execute_result",
          "data": {
            "text/plain": [
              "4"
            ]
          },
          "metadata": {
            "tags": []
          },
          "execution_count": 8
        }
      ]
    },
    {
      "cell_type": "code",
      "metadata": {
        "colab": {
          "base_uri": "https://localhost:8080/"
        },
        "id": "TAV_rBfDD6xd",
        "outputId": "5a5c1a12-9f6a-4527-d2c7-fa364d60d870"
      },
      "source": [
        "x1 = {\"Naruto\", \"Ichigo\", \"Sasuke\"}\n",
        "x2 = {\"Hinata\", \"Orihime\", \"Sakura\"}\n",
        "x1|x2"
      ],
      "execution_count": 9,
      "outputs": [
        {
          "output_type": "execute_result",
          "data": {
            "text/plain": [
              "{'Hinata', 'Ichigo', 'Naruto', 'Orihime', 'Sakura', 'Sasuke'}"
            ]
          },
          "metadata": {
            "tags": []
          },
          "execution_count": 9
        }
      ]
    },
    {
      "cell_type": "code",
      "metadata": {
        "colab": {
          "base_uri": "https://localhost:8080/"
        },
        "id": "En3lC4M8EY5B",
        "outputId": "c003101a-d8c4-4d02-b399-e24571055662"
      },
      "source": [
        "x1.union(x2)"
      ],
      "execution_count": 10,
      "outputs": [
        {
          "output_type": "execute_result",
          "data": {
            "text/plain": [
              "{'Hinata', 'Ichigo', 'Naruto', 'Orihime', 'Sakura', 'Sasuke'}"
            ]
          },
          "metadata": {
            "tags": []
          },
          "execution_count": 10
        }
      ]
    },
    {
      "cell_type": "code",
      "metadata": {
        "colab": {
          "base_uri": "https://localhost:8080/"
        },
        "id": "2O_iXzJMEc0F",
        "outputId": "1f0844e0-c951-400e-8fe5-d0370e709207"
      },
      "source": [
        "a = {1, 2, 3, 4}\n",
        "b = {2, 3, 4, 5}\n",
        "c = {1, 2, 4, 5}\n",
        "a.union(b,c)"
      ],
      "execution_count": 11,
      "outputs": [
        {
          "output_type": "execute_result",
          "data": {
            "text/plain": [
              "{1, 2, 3, 4, 5}"
            ]
          },
          "metadata": {
            "tags": []
          },
          "execution_count": 11
        }
      ]
    },
    {
      "cell_type": "code",
      "metadata": {
        "colab": {
          "base_uri": "https://localhost:8080/"
        },
        "id": "g_pr-kD7E4h3",
        "outputId": "64663e2b-83a5-48e6-ec21-bed828c14e64"
      },
      "source": [
        "a.intersection(b)"
      ],
      "execution_count": 12,
      "outputs": [
        {
          "output_type": "execute_result",
          "data": {
            "text/plain": [
              "{2, 3, 4}"
            ]
          },
          "metadata": {
            "tags": []
          },
          "execution_count": 12
        }
      ]
    },
    {
      "cell_type": "code",
      "metadata": {
        "colab": {
          "base_uri": "https://localhost:8080/"
        },
        "id": "W5xmaGwwE-H0",
        "outputId": "46d65e8d-a0af-4af8-d400-51437795ec80"
      },
      "source": [
        "a.difference(b)"
      ],
      "execution_count": 13,
      "outputs": [
        {
          "output_type": "execute_result",
          "data": {
            "text/plain": [
              "{1}"
            ]
          },
          "metadata": {
            "tags": []
          },
          "execution_count": 13
        }
      ]
    },
    {
      "cell_type": "code",
      "metadata": {
        "colab": {
          "base_uri": "https://localhost:8080/"
        },
        "id": "mMtt-iv4FCyy",
        "outputId": "0dad07fa-add5-4bf6-96b6-63a1451c6e15"
      },
      "source": [
        "a.issubset(b)"
      ],
      "execution_count": 14,
      "outputs": [
        {
          "output_type": "execute_result",
          "data": {
            "text/plain": [
              "False"
            ]
          },
          "metadata": {
            "tags": []
          },
          "execution_count": 14
        }
      ]
    },
    {
      "cell_type": "code",
      "metadata": {
        "colab": {
          "base_uri": "https://localhost:8080/"
        },
        "id": "KzNcSKKbFMJO",
        "outputId": "a63bd1b0-3d32-42e5-a7c4-b1b951dfeaea"
      },
      "source": [
        "a.update(['corge', 'garply'])\n",
        "a"
      ],
      "execution_count": 15,
      "outputs": [
        {
          "output_type": "execute_result",
          "data": {
            "text/plain": [
              "{1, 2, 3, 4, 'corge', 'garply'}"
            ]
          },
          "metadata": {
            "tags": []
          },
          "execution_count": 15
        }
      ]
    },
    {
      "cell_type": "code",
      "metadata": {
        "colab": {
          "base_uri": "https://localhost:8080/"
        },
        "id": "Qf1Cn_aNFdco",
        "outputId": "3243f09f-e04e-40e6-9ce9-bd05cb9c8178"
      },
      "source": [
        "a|={\"hey\"}\n",
        "a"
      ],
      "execution_count": 16,
      "outputs": [
        {
          "output_type": "execute_result",
          "data": {
            "text/plain": [
              "{1, 2, 3, 4, 'corge', 'garply', 'hey'}"
            ]
          },
          "metadata": {
            "tags": []
          },
          "execution_count": 16
        }
      ]
    },
    {
      "cell_type": "markdown",
      "metadata": {
        "id": "sSy3ZKM7Pm2i"
      },
      "source": [
        "Want more fun? Try the exercises and complete the assignment!"
      ]
    }
  ]
}